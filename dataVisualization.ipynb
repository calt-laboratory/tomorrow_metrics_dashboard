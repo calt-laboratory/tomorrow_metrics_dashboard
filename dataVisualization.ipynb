{
 "cells": [
  {
   "cell_type": "code",
   "metadata": {
    "collapsed": true,
    "ExecuteTime": {
     "end_time": "2024-12-18T20:37:55.904099900Z",
     "start_time": "2024-12-18T20:32:47.071394700Z"
    }
   },
   "source": [
    "%use dataframe\n",
    "%use kandy"
   ],
   "outputs": [],
   "execution_count": 9
  },
  {
   "metadata": {
    "ExecuteTime": {
     "end_time": "2024-12-18T20:27:47.973940700Z",
     "start_time": "2024-12-18T20:27:47.920121100Z"
    }
   },
   "cell_type": "code",
   "source": "import kotlin.random.Random",
   "outputs": [],
   "execution_count": 4
  },
  {
   "metadata": {
    "ExecuteTime": {
     "end_time": "2024-12-18T20:27:19.942103200Z",
     "start_time": "2024-12-18T20:27:19.872336700Z"
    }
   },
   "cell_type": "code",
   "source": [
    "import org.example.utils.getDatabasePath\n",
    "import org.example.constants.RELATIVE_PATH_TO_DATABASE\n",
    "import org.example.constants.TOMORROW_CUSTOMER_TABLE_NAME\n",
    "import org.example.dataProcessing.readSqlTable"
   ],
   "outputs": [],
   "execution_count": 1
  },
  {
   "metadata": {
    "ExecuteTime": {
     "end_time": "2024-12-18T20:27:49.897990100Z",
     "start_time": "2024-12-18T20:27:49.694670300Z"
    }
   },
   "cell_type": "code",
   "source": [
    "val randomCustomerNumbers = List(100) { Random.nextInt(118000, 121000)}\n",
    "println(randomCustomerNumbers)"
   ],
   "outputs": [
    {
     "name": "stdout",
     "output_type": "stream",
     "text": [
      "[120364, 120771, 119306, 119915, 118998, 120107, 120967, 118517, 120846, 120028, 120932, 119677, 118538, 120143, 118784, 120212, 118547, 119535, 118164, 118127, 120176, 119937, 119563, 120742, 119409, 120720, 118119, 119516, 118731, 119119, 119429, 118499, 118503, 118080, 119834, 120615, 118354, 120537, 118629, 120997, 120236, 119515, 120268, 119708, 118484, 119699, 119109, 120299, 119281, 120452, 120053, 119870, 119284, 119454, 119598, 118551, 119793, 119774, 118021, 118674, 118990, 119628, 118636, 120954, 119252, 119173, 118931, 119575, 118874, 118016, 118754, 118557, 119994, 119085, 118491, 120590, 120314, 118387, 118037, 118701, 118284, 120038, 120314, 119345, 118557, 120728, 119911, 118850, 120320, 119439, 118440, 120230, 120042, 120658, 118410, 120328, 119629, 118069, 120146, 120722]\r\n"
     ]
    }
   ],
   "execution_count": 5
  },
  {
   "metadata": {
    "ExecuteTime": {
     "end_time": "2024-12-18T20:27:53.489320900Z",
     "start_time": "2024-12-18T20:27:52.570269800Z"
    }
   },
   "cell_type": "code",
   "source": [
    "val pathToDatabase = getDatabasePath(relativeProjectPathToDatabase = RELATIVE_PATH_TO_DATABASE)\n",
    "val url = \"jdbc:sqlite:$pathToDatabase\"\n",
    "val tomorrowDbConfig = DbConnectionConfig(url=url)\n",
    "val df = readSqlTable(dbConfig = tomorrowDbConfig, tableName = TOMORROW_CUSTOMER_TABLE_NAME)\n",
    "df.print()"
   ],
   "outputs": [
    {
     "name": "stdout",
     "output_type": "stream",
     "text": [
      "                       createdAt customerNumber\n",
      " 0    2024-12-18T20:45:09.672610         118455\n",
      " 1 2024-12-18T21:24:55.404364600         118457\n",
      "\r\n"
     ]
    }
   ],
   "execution_count": 6
  },
  {
   "metadata": {
    "ExecuteTime": {
     "end_time": "2024-12-18T20:49:02.491865500Z",
     "start_time": "2024-12-18T20:49:02.274584900Z"
    }
   },
   "cell_type": "code",
   "source": [
    "df.plot {\n",
    "    line {\n",
    "        x(createdAt) {\n",
    "            axis {\n",
    "                name = \"Date\"\n",
    "            }\n",
    "        }\n",
    "        y(customerNumber) {\n",
    "            axis {\n",
    "                name = \"Customer Number\"\n",
    "            }\n",
    "        }\n",
    "        color = Color.RED\n",
    "    }\n",
    "    layout {\n",
    "        title = \"Tomorrow Customer Number\"\n",
    "    }\n",
    "}"
   ],
   "outputs": [
    {
     "data": {
      "text/html": [
       "            <iframe src='about:blank' style='border:none !important;' width='600' height='400' srcdoc=\"&lt;html lang=&quot;en&quot;>\n",
       "   &lt;head>\n",
       "       &lt;meta charset=&quot;UTF-8&quot;>\n",
       "       &lt;style> html, body { margin: 0; overflow: hidden; } &lt;/style>\n",
       "       &lt;script type=&quot;text/javascript&quot; data-lets-plot-script=&quot;library&quot; src=&quot;https://cdn.jsdelivr.net/gh/JetBrains/lets-plot@v4.3.3/js-package/distr/lets-plot.min.js&quot;>&lt;/script>\n",
       "   &lt;/head>\n",
       "   &lt;body>\n",
       "          &lt;div id=&quot;7SPftX&quot;>&lt;/div>\n",
       "   &lt;script type=&quot;text/javascript&quot; data-lets-plot-script=&quot;plot&quot;>\n",
       "       var plotSpec={\n",
       "&quot;ggtitle&quot;:{\n",
       "&quot;text&quot;:&quot;Tomorrow Customer Number&quot;\n",
       "},\n",
       "&quot;mapping&quot;:{\n",
       "},\n",
       "&quot;data&quot;:{\n",
       "&quot;createdAt&quot;:[&quot;2024-12-18T20:45:09.672610&quot;,&quot;2024-12-18T21:24:55.404364600&quot;],\n",
       "&quot;customerNumber&quot;:[118455.0,118457.0]\n",
       "},\n",
       "&quot;kind&quot;:&quot;plot&quot;,\n",
       "&quot;scales&quot;:[{\n",
       "&quot;aesthetic&quot;:&quot;x&quot;,\n",
       "&quot;discrete&quot;:true,\n",
       "&quot;name&quot;:&quot;Date&quot;\n",
       "},{\n",
       "&quot;aesthetic&quot;:&quot;y&quot;,\n",
       "&quot;name&quot;:&quot;Customer Number&quot;,\n",
       "&quot;limits&quot;:[null,null]\n",
       "}],\n",
       "&quot;layers&quot;:[{\n",
       "&quot;mapping&quot;:{\n",
       "&quot;x&quot;:&quot;createdAt&quot;,\n",
       "&quot;y&quot;:&quot;customerNumber&quot;\n",
       "},\n",
       "&quot;stat&quot;:&quot;identity&quot;,\n",
       "&quot;color&quot;:&quot;#ee6666&quot;,\n",
       "&quot;sampling&quot;:&quot;none&quot;,\n",
       "&quot;position&quot;:&quot;identity&quot;,\n",
       "&quot;geom&quot;:&quot;line&quot;,\n",
       "&quot;data&quot;:{\n",
       "}\n",
       "}]\n",
       "};\n",
       "       var plotContainer = document.getElementById(&quot;7SPftX&quot;);\n",
       "       LetsPlot.buildPlotFromProcessedSpecs(plotSpec, -1, -1, plotContainer);\n",
       "   &lt;/script>\n",
       "   &lt;/body>\n",
       "&lt;/html>\"></iframe>            <svg xmlns=\"http://www.w3.org/2000/svg\" xmlns:xlink=\"http://www.w3.org/1999/xlink\" display=\"block\" class=\"plt-container\" id=da2614d3-3921-48e5-bc9b-b7ebde678328 width=\"100%\" height=\"100%\" style=\"max-width: 600.0px; max-height: 400.0px;\" viewBox=\"0 0 600.0 400.0\" preserveAspectRatio=\"xMinYMin meet\">\n",
       "  <style type=\"text/css\">\n",
       "  .plt-container {\n",
       "   font-family: Lucida Grande, sans-serif;\n",
       "   user-select: none;\n",
       "   -webkit-user-select: none;\n",
       "   -moz-user-select: none;\n",
       "   -ms-user-select: none;\n",
       "}\n",
       "text {\n",
       "   text-rendering: optimizeLegibility;\n",
       "}\n",
       "#poCEoJp .plot-title {\n",
       "   fill: #474747;\n",
       "   font-family: Lucida Grande, sans-serif;\n",
       "   font-size: 16.0px;\n",
       "   font-weight: normal;\n",
       "   font-style: normal;   \n",
       "}\n",
       "#poCEoJp .plot-subtitle {\n",
       "   fill: #474747;\n",
       "   font-family: Lucida Grande, sans-serif;\n",
       "   font-size: 15.0px;\n",
       "   font-weight: normal;\n",
       "   font-style: normal;   \n",
       "}\n",
       "#poCEoJp .plot-caption {\n",
       "   fill: #474747;\n",
       "   font-family: Lucida Grande, sans-serif;\n",
       "   font-size: 13.0px;\n",
       "   font-weight: normal;\n",
       "   font-style: normal;   \n",
       "}\n",
       "#poCEoJp .legend-title {\n",
       "   fill: #474747;\n",
       "   font-family: Lucida Grande, sans-serif;\n",
       "   font-size: 15.0px;\n",
       "   font-weight: normal;\n",
       "   font-style: normal;   \n",
       "}\n",
       "#poCEoJp .legend-item {\n",
       "   fill: #474747;\n",
       "   font-family: Lucida Grande, sans-serif;\n",
       "   font-size: 13.0px;\n",
       "   font-weight: normal;\n",
       "   font-style: normal;   \n",
       "}\n",
       "#poCEoJp .axis-title-x {\n",
       "   fill: #474747;\n",
       "   font-family: Lucida Grande, sans-serif;\n",
       "   font-size: 15.0px;\n",
       "   font-weight: normal;\n",
       "   font-style: normal;   \n",
       "}\n",
       "#poCEoJp .axis-text-x {\n",
       "   fill: #474747;\n",
       "   font-family: Lucida Grande, sans-serif;\n",
       "   font-size: 13.0px;\n",
       "   font-weight: normal;\n",
       "   font-style: normal;   \n",
       "}\n",
       "#d1uORUb .axis-tooltip-text-x {\n",
       "   fill: #ffffff;\n",
       "   font-family: Lucida Grande, sans-serif;\n",
       "   font-size: 13.0px;\n",
       "   font-weight: normal;\n",
       "   font-style: normal;   \n",
       "}\n",
       "#poCEoJp .axis-title-y {\n",
       "   fill: #474747;\n",
       "   font-family: Lucida Grande, sans-serif;\n",
       "   font-size: 15.0px;\n",
       "   font-weight: normal;\n",
       "   font-style: normal;   \n",
       "}\n",
       "#poCEoJp .axis-text-y {\n",
       "   fill: #474747;\n",
       "   font-family: Lucida Grande, sans-serif;\n",
       "   font-size: 13.0px;\n",
       "   font-weight: normal;\n",
       "   font-style: normal;   \n",
       "}\n",
       "#d1uORUb .axis-tooltip-text-y {\n",
       "   fill: #ffffff;\n",
       "   font-family: Lucida Grande, sans-serif;\n",
       "   font-size: 13.0px;\n",
       "   font-weight: normal;\n",
       "   font-style: normal;   \n",
       "}\n",
       "#poCEoJp .facet-strip-text-x {\n",
       "   fill: #474747;\n",
       "   font-family: Lucida Grande, sans-serif;\n",
       "   font-size: 13.0px;\n",
       "   font-weight: normal;\n",
       "   font-style: normal;   \n",
       "}\n",
       "#poCEoJp .facet-strip-text-y {\n",
       "   fill: #474747;\n",
       "   font-family: Lucida Grande, sans-serif;\n",
       "   font-size: 13.0px;\n",
       "   font-weight: normal;\n",
       "   font-style: normal;   \n",
       "}\n",
       "#d1uORUb .tooltip-text {\n",
       "   fill: #474747;\n",
       "   font-family: Lucida Grande, sans-serif;\n",
       "   font-size: 13.0px;\n",
       "   font-weight: normal;\n",
       "   font-style: normal;   \n",
       "}\n",
       "#d1uORUb .tooltip-title {\n",
       "   fill: #474747;\n",
       "   font-family: Lucida Grande, sans-serif;\n",
       "   font-size: 13.0px;\n",
       "   font-weight: bold;\n",
       "   font-style: normal;   \n",
       "}\n",
       "#d1uORUb .tooltip-label {\n",
       "   fill: #474747;\n",
       "   font-family: Lucida Grande, sans-serif;\n",
       "   font-size: 13.0px;\n",
       "   font-weight: bold;\n",
       "   font-style: normal;   \n",
       "}\n",
       "\n",
       "  </style>\n",
       "  <g id=\"poCEoJp\">\n",
       "    <path fill-rule=\"evenodd\" fill=\"rgb(255,255,255)\" fill-opacity=\"1.0\" d=\"M0.0 0.0 L0.0 400.0 L600.0 400.0 L600.0 0.0 Z\">\n",
       "    </path>\n",
       "    <g transform=\"translate(29.5 26.5 ) \">\n",
       "      <g>\n",
       "        <g transform=\"translate(58.95712304215423 0.0 ) \">\n",
       "          <g>\n",
       "            <line x1=\"72.1489824225494\" y1=\"0.0\" x2=\"72.1489824225494\" y2=\"109.41683084222214\" stroke=\"rgb(233,233,233)\" stroke-opacity=\"1.0\" stroke-width=\"1.0\" fill=\"none\">\n",
       "            </line>\n",
       "            <line x1=\"432.8938945352964\" y1=\"0.0\" x2=\"432.8938945352964\" y2=\"109.41683084222214\" stroke=\"rgb(233,233,233)\" stroke-opacity=\"1.0\" stroke-width=\"1.0\" fill=\"none\">\n",
       "            </line>\n",
       "          </g>\n",
       "        </g>\n",
       "        <g transform=\"translate(58.95712304215423 0.0 ) \">\n",
       "          <g>\n",
       "            <line x1=\"0.0\" y1=\"104.44333853106946\" x2=\"505.04287695784575\" y2=\"104.44333853106946\" stroke=\"rgb(233,233,233)\" stroke-opacity=\"1.0\" stroke-width=\"1.0\" fill=\"none\">\n",
       "            </line>\n",
       "            <line x1=\"0.0\" y1=\"54.70841542072594\" x2=\"505.04287695784575\" y2=\"54.70841542072594\" stroke=\"rgb(233,233,233)\" stroke-opacity=\"1.0\" stroke-width=\"1.0\" fill=\"none\">\n",
       "            </line>\n",
       "            <line x1=\"0.0\" y1=\"4.973492311313748\" x2=\"505.04287695784575\" y2=\"4.973492311313748\" stroke=\"rgb(233,233,233)\" stroke-opacity=\"1.0\" stroke-width=\"1.0\" fill=\"none\">\n",
       "            </line>\n",
       "          </g>\n",
       "        </g>\n",
       "      </g>\n",
       "      <g clip-path=\"url(#cqvbXF8)\" clip-bounds-jfx=\"[rect (58.95712304215423, 0.0), (505.04287695784575, 109.41683084222214)]\">\n",
       "        <g transform=\"translate(58.95712304215423 0.0 ) \">\n",
       "          <g>\n",
       "            <g>\n",
       "              <g>\n",
       "                <path d=\"M72.1489824225494 104.44333853106946 L72.1489824225494 104.44333853106946 L432.8938945352964 4.973492311313748 \" fill=\"none\" stroke-width=\"1.6500000000000001\" stroke=\"rgb(238,102,102)\" stroke-opacity=\"1.0\">\n",
       "                </path>\n",
       "              </g>\n",
       "            </g>\n",
       "          </g>\n",
       "        </g>\n",
       "        <defs>\n",
       "          <clipPath id=\"cqvbXF8\">\n",
       "            <rect x=\"58.95712304215423\" y=\"0.0\" width=\"505.04287695784575\" height=\"109.41683084222214\">\n",
       "            </rect>\n",
       "          </clipPath>\n",
       "        </defs>\n",
       "      </g>\n",
       "      <g>\n",
       "        <g transform=\"translate(58.95712304215423 109.41683084222214 ) \">\n",
       "          <g transform=\"translate(72.1489824225494 0.0 ) \">\n",
       "            <line stroke-width=\"1.0\" stroke=\"rgb(71,71,71)\" stroke-opacity=\"1.0\" x2=\"0.0\" y2=\"4.0\">\n",
       "            </line>\n",
       "            <g transform=\"translate(0.0 7.0 ) rotate(90.0 ) \">\n",
       "              <text class=\"axis-text-x\" dy=\"0.35em\">\n",
       "                <tspan>2024-12-18T20:45:09.672610</tspan>\n",
       "              </text>\n",
       "            </g>\n",
       "          </g>\n",
       "          <g transform=\"translate(432.8938945352964 0.0 ) \">\n",
       "            <line stroke-width=\"1.0\" stroke=\"rgb(71,71,71)\" stroke-opacity=\"1.0\" x2=\"0.0\" y2=\"4.0\">\n",
       "            </line>\n",
       "            <g transform=\"translate(0.0 7.0 ) rotate(90.0 ) \">\n",
       "              <text class=\"axis-text-x\" dy=\"0.35em\">\n",
       "                <tspan>2024-12-18T21:24:55.404364600</tspan>\n",
       "              </text>\n",
       "            </g>\n",
       "          </g>\n",
       "          <line x1=\"0.0\" y1=\"0.0\" x2=\"505.04287695784575\" y2=\"0.0\" stroke-width=\"1.0\" stroke=\"rgb(71,71,71)\" stroke-opacity=\"1.0\">\n",
       "          </line>\n",
       "        </g>\n",
       "        <g transform=\"translate(58.95712304215423 0.0 ) \">\n",
       "          <g transform=\"translate(0.0 104.44333853106946 ) \">\n",
       "            <g transform=\"translate(-3.0 0.0 ) \">\n",
       "              <text class=\"axis-text-y\" text-anchor=\"end\" dy=\"0.35em\">\n",
       "                <tspan>118,455</tspan>\n",
       "              </text>\n",
       "            </g>\n",
       "          </g>\n",
       "          <g transform=\"translate(0.0 54.70841542072594 ) \">\n",
       "            <g transform=\"translate(-3.0 0.0 ) \">\n",
       "              <text class=\"axis-text-y\" text-anchor=\"end\" dy=\"0.35em\">\n",
       "                <tspan>118,456</tspan>\n",
       "              </text>\n",
       "            </g>\n",
       "          </g>\n",
       "          <g transform=\"translate(0.0 4.973492311313748 ) \">\n",
       "            <g transform=\"translate(-3.0 0.0 ) \">\n",
       "              <text class=\"axis-text-y\" text-anchor=\"end\" dy=\"0.35em\">\n",
       "                <tspan>118,457</tspan>\n",
       "              </text>\n",
       "            </g>\n",
       "          </g>\n",
       "        </g>\n",
       "      </g>\n",
       "    </g>\n",
       "    <g transform=\"translate(88.45712304215422 16.8 ) \">\n",
       "      <text class=\"plot-title\" y=\"0.0\">\n",
       "        <tspan>Tomorrow Customer Number</tspan>\n",
       "      </text>\n",
       "    </g>\n",
       "    <g transform=\"translate(16.0 81.20841542111107 ) rotate(-90.0 ) \">\n",
       "      <text class=\"axis-title-y\" y=\"0.0\" text-anchor=\"middle\">\n",
       "        <tspan>Customer Number</tspan>\n",
       "      </text>\n",
       "    </g>\n",
       "    <g transform=\"translate(340.9785615210771 393.0 ) \">\n",
       "      <text class=\"axis-title-x\" y=\"0.0\" text-anchor=\"middle\">\n",
       "        <tspan>Date</tspan>\n",
       "      </text>\n",
       "    </g>\n",
       "    <path fill=\"rgb(0,0,0)\" fill-opacity=\"0.0\" stroke=\"rgb(71,71,71)\" stroke-opacity=\"1.0\" stroke-width=\"0.0\" d=\"M0.0 0.0 L0.0 400.0 L600.0 400.0 L600.0 0.0 Z\">\n",
       "    </path>\n",
       "  </g>\n",
       "  <g id=\"d1uORUb\">\n",
       "  </g>\n",
       "</svg>\n",
       "        <script>document.getElementById(\"da2614d3-3921-48e5-bc9b-b7ebde678328\").style.display = \"none\";</script>"
      ],
      "application/plot+json": {
       "output_type": "lets_plot_spec",
       "output": {
        "ggtitle": {
         "text": "Tomorrow Customer Number"
        },
        "mapping": {},
        "data": {
         "createdAt": [
          "2024-12-18T20:45:09.672610",
          "2024-12-18T21:24:55.404364600"
         ],
         "customerNumber": [
          118455.0,
          118457.0
         ]
        },
        "kind": "plot",
        "scales": [
         {
          "aesthetic": "x",
          "discrete": true,
          "name": "Date"
         },
         {
          "aesthetic": "y",
          "name": "Customer Number",
          "limits": [
           null,
           null
          ]
         }
        ],
        "layers": [
         {
          "mapping": {
           "x": "createdAt",
           "y": "customerNumber"
          },
          "stat": "identity",
          "color": "#ee6666",
          "sampling": "none",
          "position": "identity",
          "geom": "line"
         }
        ]
       },
       "apply_color_scheme": true,
       "swing_enabled": true
      }
     },
     "execution_count": 20,
     "metadata": {},
     "output_type": "execute_result"
    }
   ],
   "execution_count": 20
  },
  {
   "metadata": {},
   "cell_type": "code",
   "outputs": [],
   "execution_count": null,
   "source": ""
  }
 ],
 "metadata": {
  "kernelspec": {
   "display_name": "Kotlin",
   "language": "kotlin",
   "name": "kotlin"
  },
  "language_info": {
   "name": "kotlin",
   "version": "1.9.23",
   "mimetype": "text/x-kotlin",
   "file_extension": ".kt",
   "pygments_lexer": "kotlin",
   "codemirror_mode": "text/x-kotlin",
   "nbconvert_exporter": ""
  }
 },
 "nbformat": 4,
 "nbformat_minor": 0
}
